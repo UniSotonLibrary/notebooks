{
 "cells": [
  {
   "cell_type": "markdown",
   "id": "97abaa0c",
   "metadata": {},
   "source": [
    "# University of Southampton Digital Library Search API"
   ]
  },
  {
   "cell_type": "markdown",
   "id": "799df972",
   "metadata": {},
   "source": [
    "First import Python packages we'll need. Some are built in like subprocess and sys. Others, such as Requests, need to be downloaded from the Python package manager PIP. We check if the Requests package is already installed and if it isn't found, we install it with PIP."
   ]
  },
  {
   "cell_type": "code",
   "execution_count": 1,
   "id": "06dd2c8e",
   "metadata": {},
   "outputs": [],
   "source": [
    "import json\n",
    "import subprocess\n",
    "import sys\n",
    "\n",
    "# Ensure 'requests' is installed and imported\n",
    "try:\n",
    "    import requests\n",
    "except ImportError:\n",
    "    subprocess.check_call([sys.executable, \"-m\", \"pip\", \"install\", \"requests\"])\n",
    "    import requests\n"
   ]
  },
  {
   "cell_type": "markdown",
   "id": "d6c18d92",
   "metadata": {},
   "source": [
    "We're going to follow an example from the [API documentation](https://digital.epexio.com/uosViewer/repositories/records/search.html), searching for records in the [Digital Viewer](https://viewer.soton.ac.uk/) that have the word \"balloon\" in the title."
   ]
  },
  {
   "cell_type": "code",
   "execution_count": 21,
   "id": "4f0ac815",
   "metadata": {},
   "outputs": [],
   "source": [
    "# Build query\n",
    "\n",
    "def build_query_url(search_term, field, offset=None, limit=10):\n",
    "    end_point = \"https://digital.epexio.com/uosViewer/repositories/records/search\"\n",
    "    query_string = \"?q=\" + search_term + \"&field=\" + field + \"&limit=\" + str(limit)\n",
    "    if offset:\n",
    "        query_string += \"&offset=\" + str(offset)\n",
    "\n",
    "    query = end_point + query_string \n",
    "    # evaluates to https://digital.epexio.com/uosViewer/repositories/records/search?q=balloon&field=title&limit=10\n",
    "    # you could copy and paste this url into a browser and display the data returned by the API\n",
    "    return query\n"
   ]
  },
  {
   "cell_type": "code",
   "execution_count": 22,
   "id": "7a7cb3cb",
   "metadata": {},
   "outputs": [],
   "source": [
    "# Send query\n",
    "query = build_query_url('balloon', 'title')\n",
    "response = requests.get(query)"
   ]
  },
  {
   "cell_type": "code",
   "execution_count": 10,
   "id": "b981a924",
   "metadata": {
    "scrolled": true
   },
   "outputs": [
    {
     "name": "stdout",
     "output_type": "stream",
     "text": [
      "{\n",
      "    \"header\": {\n",
      "        \"hitCount\": 4\n",
      "    },\n",
      "    \"records\": [\n",
      "        {\n",
      "            \"uri\": \"http://data.epexio.com/uosViewer/descriptions/02f7a64f-5e5c-4101-b544-93516bf0244f\",\n",
      "            \"locator\": \"epexio:loc:uosViewer:descriptions/MS439_A4278_HFA_8_3_1_46\",\n",
      "            \"oai_identifier\": \"oai:data.epexio.com:uosViewer/descriptions/02f7a64f-5e5c-4101-b544-93516bf0244f\",\n",
      "            \"refNo\": \"MS439_A4278_HFA_8_3_1_46\",\n",
      "            \"title\": \"One scuba diver carrying a concrete block underwater with a lifting balloon\",\n",
      "            \"last_modified\": \"2024-06-06T09:05:11.851Z\",\n",
      "            \"date\": \"1970-1973\",\n",
      "            \"dateRange\": null,\n",
      "            \"description\": null,\n",
      "            \"dc\": {\n",
      "                \"title\": \"One scuba diver carrying a concrete block underwater with a lifting balloon\",\n",
      "                \"description\": null,\n",
      "                \"type\": \"Archive Collection\",\n",
      "                \"identifier\": \"http://data.epexio.com/uosViewer/descriptions/02f7a64f-5e5c-4101-b544-93516bf0244f\",\n",
      "                \"subjects\": [],\n",
      "                \"coverage\": [],\n",
      "                \"relation\": [\n",
      "                    \"https://viewer.soton.ac.uk/records/MS439_A4278_HFA_8_3_1_46\"\n",
      "                ]\n",
      "            },\n",
      "            \"digitisation\": \"http://data.epexio.com/uosViewer/digitisations/5f45dc36-3be4-49af-912f-dd84f3e143f2\"\n",
      "        },\n",
      "        {\n",
      "            \"uri\": \"http://data.epexio.com/uosViewer/descriptions/030c8fbb-dc68-43d1-bebd-69954ff7fc41\",\n",
      "            \"locator\": \"epexio:loc:uosViewer:descriptions/MS439_A4278_HFA_8_3_1_37\",\n",
      "            \"oai_identifier\": \"oai:data.epexio.com:uosViewer/descriptions/030c8fbb-dc68-43d1-bebd-69954ff7fc41\",\n",
      "            \"refNo\": \"MS439_A4278_HFA_8_3_1_37\",\n",
      "            \"title\": \"Two scuba divers carrying a heavy artefact underwater with a lifting balloon\",\n",
      "            \"last_modified\": \"2024-06-06T09:05:12.455Z\",\n",
      "            \"date\": \"1970-1973\",\n",
      "            \"dateRange\": null,\n",
      "            \"description\": null,\n",
      "            \"dc\": {\n",
      "                \"title\": \"Two scuba divers carrying a heavy artefact underwater with a lifting balloon\",\n",
      "                \"description\": null,\n",
      "                \"type\": \"Archive Collection\",\n",
      "                \"identifier\": \"http://data.epexio.com/uosViewer/descriptions/030c8fbb-dc68-43d1-bebd-69954ff7fc41\",\n",
      "                \"subjects\": [],\n",
      "                \"coverage\": [],\n",
      "                \"relation\": [\n",
      "                    \"https://viewer.soton.ac.uk/records/MS439_A4278_HFA_8_3_1_37\"\n",
      "                ]\n",
      "            },\n",
      "            \"digitisation\": \"http://data.epexio.com/uosViewer/digitisations/89ea4e47-6a84-45a9-bc06-dd004a9beac8\"\n",
      "        },\n",
      "        {\n",
      "            \"uri\": \"http://data.epexio.com/uosViewer/descriptions/0441f71a-19a6-4d85-be35-84c84c2d1700\",\n",
      "            \"locator\": \"epexio:loc:uosViewer:descriptions/MS439_A4278_HFA_8_3_8_371\",\n",
      "            \"oai_identifier\": \"oai:data.epexio.com:uosViewer/descriptions/0441f71a-19a6-4d85-be35-84c84c2d1700\",\n",
      "            \"refNo\": \"MS439_A4278_HFA_8_3_8_371\",\n",
      "            \"title\": \"Aerial survey using a balloon mounted camera\",\n",
      "            \"last_modified\": \"2024-06-05T19:05:07.691Z\",\n",
      "            \"date\": \"c.1967-1994\",\n",
      "            \"dateRange\": null,\n",
      "            \"description\": null,\n",
      "            \"dc\": {\n",
      "                \"title\": \"Aerial survey using a balloon mounted camera\",\n",
      "                \"description\": null,\n",
      "                \"type\": \"Archive Collection\",\n",
      "                \"identifier\": \"http://data.epexio.com/uosViewer/descriptions/0441f71a-19a6-4d85-be35-84c84c2d1700\",\n",
      "                \"subjects\": [],\n",
      "                \"coverage\": [],\n",
      "                \"relation\": [\n",
      "                    \"https://viewer.soton.ac.uk/records/MS439_A4278_HFA_8_3_8_371\"\n",
      "                ]\n",
      "            },\n",
      "            \"digitisation\": \"http://data.epexio.com/uosViewer/digitisations/9f20d8fa-8391-4561-9700-8313da029b89\"\n",
      "        },\n",
      "        {\n",
      "            \"uri\": \"http://data.epexio.com/uosViewer/descriptions/909bbcb6-de76-454b-a5a2-c9b90ad7d6cc\",\n",
      "            \"locator\": \"epexio:loc:uosViewer:descriptions/MS439_A4278_HFA_8_3_1_38\",\n",
      "            \"oai_identifier\": \"oai:data.epexio.com:uosViewer/descriptions/909bbcb6-de76-454b-a5a2-c9b90ad7d6cc\",\n",
      "            \"refNo\": \"MS439_A4278_HFA_8_3_1_38\",\n",
      "            \"title\": \"One scuba diver carrying a heavy artefact underwater with a lifting balloon\",\n",
      "            \"last_modified\": \"2024-06-06T09:07:50.028Z\",\n",
      "            \"date\": \"1970-1973\",\n",
      "            \"dateRange\": null,\n",
      "            \"description\": null,\n",
      "            \"dc\": {\n",
      "                \"title\": \"One scuba diver carrying a heavy artefact underwater with a lifting balloon\",\n",
      "                \"description\": null,\n",
      "                \"type\": \"Archive Collection\",\n",
      "                \"identifier\": \"http://data.epexio.com/uosViewer/descriptions/909bbcb6-de76-454b-a5a2-c9b90ad7d6cc\",\n",
      "                \"subjects\": [],\n",
      "                \"coverage\": [],\n",
      "                \"relation\": [\n",
      "                    \"https://viewer.soton.ac.uk/records/MS439_A4278_HFA_8_3_1_38\"\n",
      "                ]\n",
      "            },\n",
      "            \"digitisation\": \"http://data.epexio.com/uosViewer/digitisations/0cef1dae-4e55-4764-9525-a08b681fecd9\"\n",
      "        }\n",
      "    ]\n",
      "}\n"
     ]
    }
   ],
   "source": [
    "# view the response\n",
    "formatted_json = json.dumps(response.json(), indent=4)\n",
    "print(formatted_json)"
   ]
  },
  {
   "cell_type": "markdown",
   "id": "6112cf6c",
   "metadata": {},
   "source": [
    "Let's explore the data and extract some values. We can start by printing out how many hits our search returned."
   ]
  },
  {
   "cell_type": "code",
   "execution_count": 11,
   "id": "69190d48",
   "metadata": {},
   "outputs": [
    {
     "name": "stdout",
     "output_type": "stream",
     "text": [
      "The search had 4 hits.\n"
     ]
    }
   ],
   "source": [
    "# get the response body json as a Python dictionary and put it in a variable called \"data\".\n",
    "data = response.json()\n",
    "\n",
    "# Access the hit count using square bracket notation. Get the value of the 'header' key (the hit count and count key/vaue pair)\n",
    "# then get the count value from the 'hitCount' key. Put the value in a variable called \"number_of_hits\".\n",
    "number_of_hits = data['header']['hitCount']\n",
    "\n",
    "# Use a formatted string to insert the number of hits into a string and print it out.\n",
    "print(f'The search had {number_of_hits} hits.')"
   ]
  },
  {
   "cell_type": "markdown",
   "id": "a04bc00d",
   "metadata": {},
   "source": [
    "Next lets get the title and dates of each of the 4 records and print them out."
   ]
  },
  {
   "cell_type": "code",
   "execution_count": 12,
   "id": "2ea827bb",
   "metadata": {},
   "outputs": [
    {
     "name": "stdout",
     "output_type": "stream",
     "text": [
      "One scuba diver carrying a concrete block underwater with a lifting balloon | 1970-1973\n",
      "Two scuba divers carrying a heavy artefact underwater with a lifting balloon | 1970-1973\n",
      "Aerial survey using a balloon mounted camera | c.1967-1994\n",
      "One scuba diver carrying a heavy artefact underwater with a lifting balloon | 1970-1973\n"
     ]
    }
   ],
   "source": [
    "# get the records from the data variable and loop over them, extracting the title and dates,\n",
    "# then print them out\n",
    "\n",
    "records = data['records']\n",
    "\n",
    "for record in records:\n",
    "    title = record['title']\n",
    "    date = record['date']\n",
    "    print(f'{title} | {date}')"
   ]
  },
  {
   "cell_type": "markdown",
   "id": "d3a9c0b4",
   "metadata": {},
   "source": [
    "Let's try searching for records that have \"education\" but not \"Ireland\" in the text. We can reuse the \"build_query_url\" function. This time we can search the indexed text and see how many hits we get."
   ]
  },
  {
   "cell_type": "code",
   "execution_count": 23,
   "id": "4f7a4333",
   "metadata": {},
   "outputs": [
    {
     "name": "stdout",
     "output_type": "stream",
     "text": [
      "The search had 147 hits.\n"
     ]
    }
   ],
   "source": [
    "query = build_query_url('education -Ireland', 'content')\n",
    "response = requests.get(query)\n",
    "\n",
    "data = response.json()\n",
    "\n",
    "number_of_hits = data['header']['hitCount']\n",
    "\n",
    "print(f'The search had {number_of_hits} hits.')"
   ]
  },
  {
   "cell_type": "markdown",
   "id": "1172fc34",
   "metadata": {},
   "source": [
    "This search has resulted in quite a large number of hits. Rather than printing out all of the results we can get an idea of what the data looks like by looking at samples."
   ]
  },
  {
   "cell_type": "code",
   "execution_count": 24,
   "id": "139aba39",
   "metadata": {},
   "outputs": [
    {
     "name": "stdout",
     "output_type": "stream",
     "text": [
      "{\n",
      "    \"uri\": \"http://data.epexio.com/uosViewer/descriptions/03e185e0-488d-4caf-b6e7-23beea21ae95\",\n",
      "    \"locator\": \"epexio:loc:uosViewer:descriptions/ao-op1266254-1001\",\n",
      "    \"oai_identifier\": \"oai:data.epexio.com:uosViewer/descriptions/03e185e0-488d-4caf-b6e7-23beea21ae95\",\n",
      "    \"refNo\": \"ao-op1266254-1001\",\n",
      "    \"title\": \"Certificate of secondary education : a proposal for a new school leaving certificate other than the G.C.E.\",\n",
      "    \"last_modified\": \"2021-09-22T11:28:26.380Z\",\n",
      "    \"date\": \"1961\",\n",
      "    \"dateRange\": \"1961-1961]\",\n",
      "    \"description\": null,\n",
      "    \"dc\": {\n",
      "        \"title\": \"Certificate of secondary education : a proposal for a new school leaving certificate other than the G.C.E.\",\n",
      "        \"description\": null,\n",
      "        \"type\": \"Archive Collection\",\n",
      "        \"identifier\": \"http://data.epexio.com/uosViewer/descriptions/03e185e0-488d-4caf-b6e7-23beea21ae95\",\n",
      "        \"subjects\": [],\n",
      "        \"coverage\": [],\n",
      "        \"relation\": [\n",
      "            \"https://viewer.soton.ac.uk/records/ao-op1266254-1001\"\n",
      "        ]\n",
      "    },\n",
      "    \"digitisation\": \"http://data.epexio.com/uosViewer/digitisations/1005ed2b-3d5a-4906-a639-e5bfc7838d87\"\n",
      "}\n"
     ]
    }
   ],
   "source": [
    "# look at the record in position 4 in the list of results\n",
    "records = data['records']\n",
    "print(json.dumps(records[4], indent=4))"
   ]
  },
  {
   "cell_type": "code",
   "execution_count": 25,
   "id": "452dabf1",
   "metadata": {},
   "outputs": [
    {
     "ename": "IndexError",
     "evalue": "list index out of range",
     "output_type": "error",
     "traceback": [
      "\u001b[1;31m---------------------------------------------------------------------------\u001b[0m",
      "\u001b[1;31mIndexError\u001b[0m                                Traceback (most recent call last)",
      "Cell \u001b[1;32mIn[25], line 2\u001b[0m\n\u001b[0;32m      1\u001b[0m \u001b[38;5;66;03m# Try to look at the record in position 57 in the list of results\u001b[39;00m\n\u001b[1;32m----> 2\u001b[0m \u001b[38;5;28mprint\u001b[39m(json\u001b[38;5;241m.\u001b[39mdumps(\u001b[43mrecords\u001b[49m\u001b[43m[\u001b[49m\u001b[38;5;241;43m57\u001b[39;49m\u001b[43m]\u001b[49m, indent\u001b[38;5;241m=\u001b[39m\u001b[38;5;241m4\u001b[39m))\n",
      "\u001b[1;31mIndexError\u001b[0m: list index out of range"
     ]
    }
   ],
   "source": [
    "# Try to look at the record in position 57 in the list of results\n",
    "print(json.dumps(records[57], indent=4))"
   ]
  },
  {
   "cell_type": "markdown",
   "id": "a65d1328",
   "metadata": {},
   "source": [
    "Trying to look at the record at position 57 resulted in an IndexError. This means that there is no position 57. We know that our query had 147 hits, so there should be a position in the list of results for each of the hits. Let's look at how many records have actually been returned."
   ]
  },
  {
   "cell_type": "code",
   "execution_count": 26,
   "id": "d663adaf",
   "metadata": {},
   "outputs": [
    {
     "name": "stdout",
     "output_type": "stream",
     "text": [
      "10\n"
     ]
    }
   ],
   "source": [
    "print(len(records))"
   ]
  },
  {
   "cell_type": "markdown",
   "id": "0b198831",
   "metadata": {},
   "source": [
    "We only have 10 of the 147 records. Looking at the [API documentation](https://digital.epexio.com/uosViewer/repositories/records/search.html), we see that one of the API parameters is \"limit\", which specifies the maximum number of records to return. This can be a number between 1 and 500 and defaults to 10. We could resend the query and specify a higher limit but what if we don't know how many results there will be? It would be better to request the results in batches. Fortunately the API has a parameter \"offset\", which takes a number larger than 0 to be the starting place for the results that are returned."
   ]
  },
  {
   "cell_type": "code",
   "execution_count": 27,
   "id": "d5a990ec",
   "metadata": {},
   "outputs": [
    {
     "name": "stdout",
     "output_type": "stream",
     "text": [
      "147\n"
     ]
    }
   ],
   "source": [
    "records = [] # we will add the records to this list as they are returned\n",
    "query = build_query_url('education -Ireland', 'content')\n",
    "response = requests.get(query)\n",
    "\n",
    "data = response.json()\n",
    "number_of_hits = data['header']['hitCount']\n",
    "batch_size = 10 # this is the number of hits we want to recieve each time we query the API\n",
    "\n",
    "# we add the first 10 hits to the records list, meaning the next call to the API will need to start from 10\n",
    "records.extend(data['records'])\n",
    "\n",
    "# range is part of the standard Python library that generates a series of numbers.\n",
    "# It takes a starting number, a number to stop at and a number to count up with.\n",
    "# We will start from 10 as we've already got the first 10 results, we will stop counting when we have\n",
    "# all of the hits and because we want batches of 10 records, we'll count up in 10s\n",
    "\n",
    "for offset in range(batch_size, number_of_hits, batch_size):# this is the same as range(10, 147, 10)\n",
    "    query = build_query_url('education -Ireland', 'content', offset=offset)\n",
    "    response = requests.get(query)\n",
    "    data = response.json()\n",
    "    records.extend(data['records'])\n",
    "    \n",
    "    \n",
    "print(len(records))\n",
    "\n",
    "# it may take a few minutes to fetch all of the records"
   ]
  },
  {
   "cell_type": "code",
   "execution_count": 29,
   "id": "bf17e1e9",
   "metadata": {},
   "outputs": [
    {
     "name": "stdout",
     "output_type": "stream",
     "text": [
      "{\n",
      "    \"uri\": \"http://data.epexio.com/uosViewer/descriptions/731bab6c-7f9d-43a8-bf19-36b47cb8286a\",\n",
      "    \"locator\": \"epexio:loc:uosViewer:descriptions/ao-op1279778-1001\",\n",
      "    \"oai_identifier\": \"oai:data.epexio.com:uosViewer/descriptions/731bab6c-7f9d-43a8-bf19-36b47cb8286a\",\n",
      "    \"refNo\": \"ao-op1279778-1001\",\n",
      "    \"title\": \"Education : common funding formula for self-governing (GM) schools 1995-96 [consultation paper]\",\n",
      "    \"last_modified\": \"2021-09-22T13:29:58.802Z\",\n",
      "    \"date\": \"1994\",\n",
      "    \"dateRange\": \"1994-1994]\",\n",
      "    \"description\": null,\n",
      "    \"dc\": {\n",
      "        \"title\": \"Education : common funding formula for self-governing (GM) schools 1995-96 [consultation paper]\",\n",
      "        \"description\": null,\n",
      "        \"type\": \"Archive Collection\",\n",
      "        \"identifier\": \"http://data.epexio.com/uosViewer/descriptions/731bab6c-7f9d-43a8-bf19-36b47cb8286a\",\n",
      "        \"subjects\": [],\n",
      "        \"coverage\": [],\n",
      "        \"relation\": [\n",
      "            \"https://viewer.soton.ac.uk/records/ao-op1279778-1001\"\n",
      "        ]\n",
      "    },\n",
      "    \"digitisation\": \"http://data.epexio.com/uosViewer/digitisations/a34e4ac4-3fad-4877-9900-f4852507ff35\"\n",
      "}\n"
     ]
    }
   ],
   "source": [
    "# lets try looking at position 57 again\n",
    "\n",
    "print(json.dumps(records[57], indent=4))"
   ]
  },
  {
   "cell_type": "markdown",
   "id": "19ae67b5",
   "metadata": {},
   "source": [
    "After sampling the records, we may decide that we want to do more analysis with these records but don't want to download them from the API repeatedly. Instead, let's create a function we can use to save the records to a json file."
   ]
  },
  {
   "cell_type": "code",
   "execution_count": 31,
   "id": "e9ae744f",
   "metadata": {},
   "outputs": [],
   "source": [
    "def save_records(records, filename=\"records.json\"):\n",
    "    with open(filename, 'w') as fout:\n",
    "        json.dump(records, fout, indent=4)\n",
    "        \n",
    "save_records(records)"
   ]
  },
  {
   "cell_type": "markdown",
   "id": "ec08b371",
   "metadata": {},
   "source": [
    "Let's also create a function we can use to open the file."
   ]
  },
  {
   "cell_type": "code",
   "execution_count": 32,
   "id": "e1f3ec09",
   "metadata": {},
   "outputs": [
    {
     "name": "stdout",
     "output_type": "stream",
     "text": [
      "147\n"
     ]
    }
   ],
   "source": [
    "def open_records(filename):\n",
    "    with open(filename, 'r') as fin:\n",
    "        return json.load(fin)\n",
    "    \n",
    "records_from_file = open_records(\"records.json\")\n",
    "\n",
    "# Let's check that the number of records we get back from the file are\n",
    "# the same as we put into the file.\n",
    "print(len(records_from_file))"
   ]
  },
  {
   "cell_type": "markdown",
   "id": "2c6c70a8",
   "metadata": {},
   "source": [
    "We saw from the title of the record in position 57 of the records list that the record is for a consultation paper. Let's create a visualisation that shows what percentage of the records are for consultations."
   ]
  },
  {
   "cell_type": "code",
   "execution_count": 37,
   "id": "5c5c2915",
   "metadata": {},
   "outputs": [
    {
     "data": {
      "image/png": "[encoded data removed]",
      "text/plain": [
       "<Figure size 432x432 with 1 Axes>"
      ]
     },
     "metadata": {},
     "output_type": "display_data"
    }
   ],
   "source": [
    "# import the matplotlib library\n",
    "import matplotlib.pyplot as plt\n",
    "\n",
    "# count how many record titles contain the word 'consultation'\n",
    "matching_count = sum(\n",
    "    1 for record in records_from_file\n",
    "    if 'consultation' in record['title'].lower()# checks if the word 'consultation is in the title of the current record'\n",
    ")\n",
    "records_count = len(records_from_file)\n",
    "not_matching_count = records_count - matching_count\n",
    "\n",
    "matching_percentage = (matching_count / records_count) * 100 if records_count > 0 else 0\n",
    "\n",
    "# create the pie chart\n",
    "labels = ['Consultation', 'Not consultation']\n",
    "sizes = [matching_count, not_matching_count]\n",
    "colours = ['#f8b195', '#f67280']\n",
    "\n",
    "plt.figure(figsize=(6, 6))\n",
    "plt.pie(sizes, labels=labels, colors=colours, autopct='%1.1f%%', startangle=140)\n",
    "plt.title('Percentage of records with \"consultation\" in the title')\n",
    "plt.axis('equal')\n",
    "plt.tight_layout()\n",
    "plt.show()"
   ]
  },
  {
   "cell_type": "code",
   "execution_count": null,
   "id": "a59bf7d9",
   "metadata": {},
   "outputs": [],
   "source": []
  }
 ],
 "metadata": {
  "kernelspec": {
   "display_name": "Python 3 (ipykernel)",
   "language": "python",
   "name": "python3"
  },
  "language_info": {
   "codemirror_mode": {
    "name": "ipython",
    "version": 3
   },
   "file_extension": ".py",
   "mimetype": "text/x-python",
   "name": "python",
   "nbconvert_exporter": "python",
   "pygments_lexer": "ipython3",
   "version": "3.9.18"
  }
 },
 "nbformat": 4,
 "nbformat_minor": 5
}
