{
 "cells": [
  {
   "cell_type": "markdown",
   "id": "ab3c6211",
   "metadata": {},
   "source": [
    "# University of Southampton Digital Library OAI-PMH API"
   ]
  },
  {
   "cell_type": "markdown",
   "id": "d5ab33ce",
   "metadata": {},
   "source": [
    "This notebook demonstrates how to obtain basic catalogue records from the University of Southampton Digital Library using our OAI-PMH endpoint. OAI-PMH stands for [Open Archive Initiative Protocol for Metadata Harvesting](https://www.openarchives.org/OAI/openarchivesprotocol.html) and specifies a standardised way to obtain records from a repository. "
   ]
  },
  {
   "cell_type": "code",
   "execution_count": 4,
   "id": "7acfd608",
   "metadata": {},
   "outputs": [],
   "source": [
    "import xml.etree.ElementTree as ET\n",
    "import subprocess\n",
    "import sys\n",
    "\n",
    "# Ensure 'requests' is installed and imported\n",
    "try:\n",
    "    import requests\n",
    "except ImportError:\n",
    "    subprocess.check_call([sys.executable, \"-m\", \"pip\", \"install\", \"requests\"])\n",
    "    import requests"
   ]
  },
  {
   "cell_type": "code",
   "execution_count": 6,
   "id": "065e8d1c",
   "metadata": {},
   "outputs": [],
   "source": [
    "# let's create a function that takes the base url for the endpoint, a metadata prefix specifying the metadata standard\n",
    "# we want the records to be in (Dublin Core in this instance) and a max number of pages of results (in case we want to limit\n",
    "# how many pages of results we get back).\n",
    "\n",
    "def harvest_oai_records(base_url, metadata_prefix=\"oai_dc\", max_pages=None):\n",
    "    records = []\n",
    "    params = {\n",
    "        \"verb\": \"ListRecords\",\n",
    "        \"metadataPrefix\": metadata_prefix\n",
    "    }\n",
    "    page_count = 0\n",
    "    \n",
    "    while True:\n",
    "        response = requests.get(base_url, params=params)\n",
    "        if response.status_code != 200:\n",
    "            print(f'Error: HTTP {response.status_code}')\n",
    "            break\n",
    "            \n",
    "        root = ET.fromstring(response.content)\n",
    "        records.extend(root.findall(\".//{http://www.openarchives.org/OAI/2.0/}record\"))\n",
    "        \n",
    "        token_element = root.find(\".//{http://www.openarchives.org/OAI/2.0/}resumptionToken\")\n",
    "        if token_element is not None and token_element.text:\n",
    "            params = {\n",
    "                \"verb\": \"ListRecords\",\n",
    "                \"resumptionToken\": token_element.text\n",
    "            }\n",
    "            page_count += 1\n",
    "            if max_pages is not None and page_count >= max_pages:\n",
    "                break\n",
    "        else:\n",
    "            break\n",
    "    return records"
   ]
  },
  {
   "cell_type": "markdown",
   "id": "520d911c",
   "metadata": {},
   "source": [
    "Let's call the function to get 2 pages of results and then print out how many records we have."
   ]
  },
  {
   "cell_type": "code",
   "execution_count": 7,
   "id": "b78ec152",
   "metadata": {},
   "outputs": [
    {
     "name": "stdout",
     "output_type": "stream",
     "text": [
      "Retrieved 400 records.\n"
     ]
    }
   ],
   "source": [
    "base_url = \"https://digital.epexio.com/uosViewer/repositories/records/oai\"\n",
    "records = harvest_oai_records(base_url, max_pages=2)\n",
    "\n",
    "print(f\"Retrieved {len(records)} records.\")\n"
   ]
  },
  {
   "cell_type": "code",
   "execution_count": null,
   "id": "b7bc4fa3",
   "metadata": {},
   "outputs": [],
   "source": []
  },
  {
   "cell_type": "code",
   "execution_count": null,
   "id": "136dee9b",
   "metadata": {},
   "outputs": [],
   "source": []
  }
 ],
 "metadata": {
  "kernelspec": {
   "display_name": "Python 3 (ipykernel)",
   "language": "python",
   "name": "python3"
  },
  "language_info": {
   "codemirror_mode": {
    "name": "ipython",
    "version": 3
   },
   "file_extension": ".py",
   "mimetype": "text/x-python",
   "name": "python",
   "nbconvert_exporter": "python",
   "pygments_lexer": "ipython3",
   "version": "3.9.18"
  }
 },
 "nbformat": 4,
 "nbformat_minor": 5
}
